{
  "nbformat": 4,
  "nbformat_minor": 0,
  "metadata": {
    "colab": {
      "provenance": [],
      "authorship_tag": "ABX9TyMvnZangvXhLAsDFGwk/pgB",
      "include_colab_link": true
    },
    "kernelspec": {
      "name": "python3",
      "display_name": "Python 3"
    },
    "language_info": {
      "name": "python"
    }
  },
  "cells": [
    {
      "cell_type": "markdown",
      "metadata": {
        "id": "view-in-github",
        "colab_type": "text"
      },
      "source": [
        "<a href=\"https://colab.research.google.com/github/AllanoSantos/Projetos-Talento_Cloud/blob/main/Projeto%20-%20Calculadora2.0.ipynb\" target=\"_parent\"><img src=\"https://colab.research.google.com/assets/colab-badge.svg\" alt=\"Open In Colab\"/></a>"
      ]
    },
    {
      "cell_type": "code",
      "execution_count": null,
      "metadata": {
        "id": "PhYZ9jDts55O"
      },
      "outputs": [],
      "source": [
        "### Projeto - Calculadora 2.0\n",
        "## Talento Cloud\n",
        "# Allano Alberto\n",
        "\n",
        "def calculadora():\n",
        "  while True:\n",
        "    operador = int(input(\"\"\"\n",
        "    Escolha uma opção de 1 a 4:\n",
        "    [1]   +  Adição\n",
        "    [2]   -  Subtração\n",
        "    [3]   *  Multiplicação\n",
        "    [4]   /  Divisão\n",
        "    [0]  Sair do programa\n",
        "    => \"\"\"))\n",
        "\n",
        "    if (operador < 0) or (operador > 4):\n",
        "      print(\"Essa opção não existe\")\n",
        "      print(\"----------------------\")\n",
        "    elif operador == 0:\n",
        "      print(\"Saindo do programa\")\n",
        "      break\n",
        "    else:\n",
        "      num1 = float(input(\"Digite o primeiro número: \"))\n",
        "      num2 = float(input(\"Digite o segundo número: \"))\n",
        "      print(\"----------------------\")\n",
        "\n",
        "      if operador == 1:\n",
        "        resultado = num1 + num2\n",
        "        print(\"Resultado da soma: \", resultado)\n",
        "      elif operador == 2:\n",
        "        resultado = num1 - num2\n",
        "        print(\"Resultado da subtração: \", resultado )\n",
        "      elif operador == 3:\n",
        "        resultado = num1 * num2\n",
        "        print(\"Resultado da multiplicação: \", resultado)\n",
        "      elif operador == 4:\n",
        "        if num2 == 0:\n",
        "          print(\"divisão por 0 não é permitida\")\n",
        "        else:\n",
        "          resultado = num1 / num2\n",
        "          print(\"Resultado da divisão: \", resultado)\n",
        "\n",
        "calculadora() #Executa \"def calculadora()\""
      ]
    }
  ]
}