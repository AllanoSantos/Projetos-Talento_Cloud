{
  "nbformat": 4,
  "nbformat_minor": 0,
  "metadata": {
    "colab": {
      "provenance": [],
      "authorship_tag": "ABX9TyPSjjMBHNSH67pjyL3aQhg4",
      "include_colab_link": true
    },
    "kernelspec": {
      "name": "python3",
      "display_name": "Python 3"
    },
    "language_info": {
      "name": "python"
    }
  },
  "cells": [
    {
      "cell_type": "markdown",
      "metadata": {
        "id": "view-in-github",
        "colab_type": "text"
      },
      "source": [
        "<a href=\"https://colab.research.google.com/github/AllanoSantos/Projetos-Talento_Cloud/blob/main/Projeto_Calculadora.ipynb\" target=\"_parent\"><img src=\"https://colab.research.google.com/assets/colab-badge.svg\" alt=\"Open In Colab\"/></a>"
      ]
    },
    {
      "cell_type": "code",
      "execution_count": null,
      "metadata": {
        "id": "x5PmfSVNO1Zs"
      },
      "outputs": [],
      "source": [
        "### Projeto - Calculadora\n",
        "## Talento Cloud\n",
        "# Allano Alberto\n",
        "\n",
        "operador = int(input(\"\"\"Escolha um numero referente ao operador aritmético:\n",
        ">[1]   +  Adição\n",
        ">[2]   -  Subtração\n",
        ">[3]   *  Multiplicação\n",
        ">[4]   /  Divisão\n",
        "\n",
        "=> \"\"\"))\n",
        "\n",
        "if (operador < 1) or (operador > 4):\n",
        "  print(\"Operação inválida.\")\n",
        "else:\n",
        "  num1 = float(input(\"Digite o primeiro numero da operação: \"))\n",
        "  num2 = float(input(\"Digite o segundo numero da operação: \"))\n",
        "\n",
        "  def calculadora(operador, num1, num2):\n",
        "    if operador == 1:\n",
        "      return num1 + num2\n",
        "    elif operador == 2:\n",
        "      return num1 - num2\n",
        "    elif operador == 3:\n",
        "      return num1 * num2\n",
        "    elif operador == 4:\n",
        "      if num2 == 0:\n",
        "        return \"divisão por 0 não é permitida\"\n",
        "      else:\n",
        "        return num1 / num2\n",
        "\n",
        "  resultado = calculadora(operador, num1, num2)\n",
        "  print(\"O resultado da operação: \", resultado)\n"
      ]
    }
  ]
}