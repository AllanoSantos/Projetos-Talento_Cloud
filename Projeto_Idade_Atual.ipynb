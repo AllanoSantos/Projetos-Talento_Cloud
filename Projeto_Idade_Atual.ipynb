{
  "nbformat": 4,
  "nbformat_minor": 0,
  "metadata": {
    "colab": {
      "provenance": [],
      "authorship_tag": "ABX9TyPky0JaHB0l5AEV4JSTEH2d",
      "include_colab_link": true
    },
    "kernelspec": {
      "name": "python3",
      "display_name": "Python 3"
    },
    "language_info": {
      "name": "python"
    }
  },
  "cells": [
    {
      "cell_type": "markdown",
      "metadata": {
        "id": "view-in-github",
        "colab_type": "text"
      },
      "source": [
        "<a href=\"https://colab.research.google.com/github/AllanoSantos/Projetos-Talento_Cloud/blob/main/Projeto_Idade_Atual.ipynb\" target=\"_parent\"><img src=\"https://colab.research.google.com/assets/colab-badge.svg\" alt=\"Open In Colab\"/></a>"
      ]
    },
    {
      "cell_type": "code",
      "execution_count": null,
      "metadata": {
        "id": "MtWQkYjOv-nZ"
      },
      "outputs": [],
      "source": [
        "### Projeto - Idade Atual\n",
        "## TalentoCloud\n",
        "# Allano Alberto\n",
        "\n",
        "\n",
        "# Solicita o ano de nascimento como entrada\n",
        "# e verifica se o ano está entre o intervalo de 1922 a 2022\n",
        "def entrada_ano():\n",
        "  while True:\n",
        "    try:\n",
        "      ano_nascimento = int(input(\"Digite o ano de seu nascimento: \"))\n",
        "      if 1922 <= ano_nascimento <= 2022:\n",
        "        return ano_nascimento\n",
        "      else:\n",
        "        print(\"Digite um ano entre 1922 e 2022\")\n",
        "    except ValueError:\n",
        "      print(\"Tipo de dado incorreto, digite um número inteiro.\")\n",
        "\n",
        "\n",
        "# Solicita o nome do usuario e calcula idade com base no ano atual\n",
        "def saida_dados(ano_Nascido):\n",
        "  nome = input(\"Digite Seu nome: \")\n",
        "  ano_atual = 2023\n",
        "  idade = ano_atual - ano_nascido\n",
        "\n",
        "  print(f\"Seu nome é {nome}, nasceu no ano de {ano_nascido} e atualmente tem {idade} anos\")\n",
        "\n",
        "\n",
        "ano_nascido = entrada_ano()\n",
        "saida_dados(ano_nascido)\n"
      ]
    }
  ]
}