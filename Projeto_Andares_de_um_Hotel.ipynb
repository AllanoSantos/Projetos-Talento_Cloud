{
  "nbformat": 4,
  "nbformat_minor": 0,
  "metadata": {
    "colab": {
      "provenance": [],
      "authorship_tag": "ABX9TyPsy3yjjunCysmiKM27PfR0",
      "include_colab_link": true
    },
    "kernelspec": {
      "name": "python3",
      "display_name": "Python 3"
    },
    "language_info": {
      "name": "python"
    }
  },
  "cells": [
    {
      "cell_type": "markdown",
      "metadata": {
        "id": "view-in-github",
        "colab_type": "text"
      },
      "source": [
        "<a href=\"https://colab.research.google.com/github/AllanoSantos/Projetos-Talento_Cloud/blob/main/Projeto_Andares_de_um_Hotel.ipynb\" target=\"_parent\"><img src=\"https://colab.research.google.com/assets/colab-badge.svg\" alt=\"Open In Colab\"/></a>"
      ]
    },
    {
      "cell_type": "code",
      "source": [
        "###Projeto - Andares de um Hotel\n",
        "##Talento Cloud\n",
        "#Allano Alberto\n",
        "\n",
        "\n",
        "##Loop em for\n",
        "for andar in range(20, 0, -1):\n",
        "    if andar == 13:\n",
        "        continue\n",
        "    print(\"(for) Andar atual: \", andar)\n",
        "\n",
        "##Loop em while\n",
        "andares = 20\n",
        "while andares >= 1:\n",
        "  if andares != 13:\n",
        "    print(\"(While) Andar atual: \", andares)\n",
        "  andares -= 1"
      ],
      "metadata": {
        "id": "xBPmoVmhNnr8"
      },
      "execution_count": null,
      "outputs": []
    }
  ]
}